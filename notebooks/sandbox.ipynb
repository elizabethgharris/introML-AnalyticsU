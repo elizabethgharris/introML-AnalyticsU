{
 "cells": [
  {
   "cell_type": "markdown",
   "metadata": {},
   "source": [
    "\n",
    "# Introduction to Machine Learning\n",
    "\n",
    "An interactive Machine Learning example written in Python, broken into the following sections:\n",
    "\n",
    "1. [Scope](#scope)\n",
    "  1. [Problem Definition](#scope-problem-definition)\n",
    "  1. [Data](#scope-data)\n",
    "1. [Prepare](#prepare)\n",
    "  1. [Import](#prepare-import)\n",
    "  1. [Cleaning](#prepare-cleaning)\n",
    "1. [Analyze](#analyze)\n",
    "  1. [Pre-processing](#analyze-pre-processing)\n",
    "  1. [Modeling](#analyze-modeling)\n",
    "  1. [Hyper-parameter Tuning](#analyze-hyper-parameter-tuning)\n",
    "1. [Reflect](#reflect)"
   ]
  },
  {
   "cell_type": "markdown",
   "metadata": {},
   "source": [
    "<a id='scope'></a>"
   ]
  },
  {
   "cell_type": "markdown",
   "metadata": {},
   "source": [
    "## Scope"
   ]
  },
  {
   "cell_type": "markdown",
   "metadata": {},
   "source": [
    "<a id='scope-problem-definition'></a>"
   ]
  },
  {
   "cell_type": "markdown",
   "metadata": {},
   "source": [
    "### Problem Definition\n",
    "\n",
    "We seek to answer the following questions by applying Machine Learning techniques to the NYC Mayor's Office of Sustainability dataset on green buildings and energy efficiency:\n",
    "\n",
    "1. Given a buidling's characteristics, can we predict what its energy usage intensity will be?\n",
    "  - Could be useful for urban planners to proactively estimate energy consumption of various of living spaces.\n",
    "1. Given a buidling's characteristics and energy use, can we predict what its Energy Star rating would be?\n",
    "  - Could be useful for Energy Star to assist in assigning ratings to buildings without a score.\n",
    "  - Could be useful for architects to predict the Energy Star scores of different designs.\n",
    "1. What sources of energy cause the most greenhouse gas emissions for a property?\n",
    "  - Could be useful for policy makers to see what sources of energy produce the most greenhouse gas emissions.\n",
    "1. What factors lead to energy loss between the source of generation and the site of the property?\n",
    "  - Could be useful for engineers to identify which locations, property usages, sources of energy, etc. lead to the most energy loss and adjust the energy grid accordingly."
   ]
  },
  {
   "cell_type": "markdown",
   "metadata": {},
   "source": [
    "<a id='scope-data'></a>"
   ]
  },
  {
   "cell_type": "markdown",
   "metadata": {},
   "source": [
    "### Data\n",
    "\n",
    "#### Citation\n",
    "\n",
    "```\n",
    "NYC Mayor's Office of Sustainability, Green Buildings & Energy Efficiency. (2017). [Data set]. \n",
    "    Retrieved from http://www.nyc.gov/html/gbee/html/plan/ll84_scores.shtml\n",
    "```\n",
    "\n",
    "#### Dimensions\n",
    "\n",
    "| Column                                                     | Functional Data Type    | Technical Data Type |\n",
    "|------------------------------------------------------------|-------------------------|---------------------|\n",
    "| Order                                                      | index                   | integer             |\n",
    "| Property Id                                                | identifier              | text                |\n",
    "| Property Name                                              | identifier              | text                |\n",
    "| Parent Property Id                                         | identifier              | text                |\n",
    "| Parent Property Name                                       | identifier              | text                |\n",
    "| BBL - 10 digits                                            | identifier              | text                |\n",
    "| NYC Borough, Block and Lot (BBL) self-reported             | identifier              | text                |\n",
    "| NYC Building Identification Number (BIN)                   | identifier              | text                |\n",
    "| Address 1 (self-reported)                                  | location                | text                |\n",
    "| Address 2                                                  | location                | text                |\n",
    "| Postal Code                                                | location                | text                |\n",
    "| Street Number                                              | location                | text                |\n",
    "| Street Name                                                | location                | text                |\n",
    "| Borough                                                    | location                | text                |\n",
    "| DOF Gross Floor Area                                       | building characteristic | numeric             |\n",
    "| Primary Property Type - Self Selected                      | building characteristic | categorical         |\n",
    "| List of All Property Use Types at Property                 | building characteristic | [categorical]       |\n",
    "| Largest Property Use Type                                  | building characteristic | categorical         |\n",
    "| Largest Property Use Type - Gross Floor Area (ft²)         | building characteristic | numeric             |\n",
    "| 2nd Largest Property Use Type                              | building characteristic | categorical         |\n",
    "| 2nd Largest Property Use - Gross Floor Area (ft²)          | building characteristic | numeric             |\n",
    "| 3rd Largest Property Use Type                              | building characteristic | categorical         |\n",
    "| 3rd Largest Property Use Type - Gross Floor Area (ft²)     | building characteristic | numeric             |\n",
    "| Year Built                                                 | building characteristic | time                |\n",
    "| Number of Buildings - Self-reported                        | building characteristic | integer             |\n",
    "| Occupancy                                                  | building characteristic | percentage          |\n",
    "| Metered Areas (Energy)                                     | building characteristic | categorical         |\n",
    "| Metered Areas (Water)                                      | building characteristic | categorical         |\n",
    "| ENERGY STAR Score                                          | score                   | numeric             |\n",
    "| Site EUI (kBtu/ft²)                                        | energy usage            | numeric             |\n",
    "| Weather Normalized Site EUI (kBtu/ft²)                     | energy usage            | numeric             |\n",
    "| Weather Normalized Site Electricity Intensity (kWh/ft²)    | energy usage            | numeric             |\n",
    "| Weather Normalized Site Natural Gas Intensity (therms/ft²) | energy usage            | numeric             |\n",
    "| Weather Normalized Source EUI (kBtu/ft²)                   | energy usage            | numeric             |\n",
    "| Fuel Oil #1 Use (kBtu)                                     | energy usage            | numeric             |\n",
    "| Fuel Oil #2 Use (kBtu)                                     | energy usage            | numeric             |\n",
    "| Fuel Oil #4 Use (kBtu)                                     | energy usage            | numeric             |\n",
    "| Fuel Oil #5 &amp; 6 Use (kBtu)                             | energy usage            | numeric             |\n",
    "| Diesel #2 Use (kBtu)                                       | energy usage            | numeric             |\n",
    "| District Steam Use (kBtu)                                  | energy usage            | numeric             |\n",
    "| Natural Gas Use (kBtu)                                     | energy usage            | numeric             |\n",
    "| Weather Normalized Site Natural Gas Use (therms)           | energy usage            | numeric             |\n",
    "| Electricity Use - Grid Purchase (kBtu)                     | energy usage            | numeric             |\n",
    "| Weather Normalized Site Electricity (kWh)                  | energy usage            | numeric             |\n",
    "| Total GHG Emissions (Metric Tons CO2e)                     | environmental footprint | numeric             |\n",
    "| Direct GHG Emissions (Metric Tons CO2e)                    | environmental footprint | numeric             |\n",
    "| Indirect GHG Emissions (Metric Tons CO2e)                  | environmental footprint | numeric             |\n",
    "| Property GFA - Self-Reported (ft²)                         | building characteristic | numeric             |\n",
    "| Water Use (All Water Sources) (kgal)                       | resource usage          | numeric             |\n",
    "| Water Intensity (All Water Sources) (gal/ft²)              | resource usage          | numeric             |\n",
    "| Source EUI (kBtu/ft²)                                      | energy usage            | numeric             |\n",
    "| Release Date                                               | metadata                | time                |\n",
    "| Water Required?                                            | building characteristic | boolean             |\n",
    "| DOF Benchmarking Submission Status                         | metadata                | categorical         |"
   ]
  },
  {
   "cell_type": "markdown",
   "metadata": {},
   "source": [
    "<a id='prepare'></a>"
   ]
  },
  {
   "cell_type": "markdown",
   "metadata": {},
   "source": [
    "## Prepare"
   ]
  },
  {
   "cell_type": "markdown",
   "metadata": {},
   "source": [
    "<a id='prepare-import'></a>"
   ]
  },
  {
   "cell_type": "markdown",
   "metadata": {},
   "source": [
    "### Import"
   ]
  },
  {
   "cell_type": "code",
   "execution_count": 226,
   "metadata": {},
   "outputs": [],
   "source": [
    "import os\n",
    "import pprint\n",
    "import numpy as np\n",
    "import pandas as pd"
   ]
  },
  {
   "cell_type": "code",
   "execution_count": 227,
   "metadata": {},
   "outputs": [],
   "source": [
    "# Import the data\n",
    "data_path = os.path.join(os.path.abspath('..'), 'data', 'nyc_benchmarking_disclosure_data_reported_in_2017.xlsx')\n",
    "df = pd.read_excel(data_path, sheet_name='Information and Metrics')"
   ]
  },
  {
   "cell_type": "code",
   "execution_count": 232,
   "metadata": {
    "scrolled": false
   },
   "outputs": [
    {
     "data": {
      "text/html": [
       "<div>\n",
       "<style scoped>\n",
       "    .dataframe tbody tr th:only-of-type {\n",
       "        vertical-align: middle;\n",
       "    }\n",
       "\n",
       "    .dataframe tbody tr th {\n",
       "        vertical-align: top;\n",
       "    }\n",
       "\n",
       "    .dataframe thead th {\n",
       "        text-align: right;\n",
       "    }\n",
       "</style>\n",
       "<table border=\"1\" class=\"dataframe\">\n",
       "  <thead>\n",
       "    <tr style=\"text-align: right;\">\n",
       "      <th></th>\n",
       "      <th>Order</th>\n",
       "      <th>Property Id</th>\n",
       "      <th>Property Name</th>\n",
       "      <th>Parent Property Id</th>\n",
       "      <th>Parent Property Name</th>\n",
       "      <th>BBL - 10 digits</th>\n",
       "      <th>NYC Borough, Block and Lot (BBL) self-reported</th>\n",
       "      <th>NYC Building Identification Number (BIN)</th>\n",
       "      <th>Address 1 (self-reported)</th>\n",
       "      <th>Postal Code</th>\n",
       "      <th>...</th>\n",
       "      <th>Total GHG Emissions (Metric Tons CO2e)</th>\n",
       "      <th>Direct GHG Emissions (Metric Tons CO2e)</th>\n",
       "      <th>Indirect GHG Emissions (Metric Tons CO2e)</th>\n",
       "      <th>Property GFA - Self-Reported (ft²)</th>\n",
       "      <th>Water Use (All Water Sources) (kgal)</th>\n",
       "      <th>Water Intensity (All Water Sources) (gal/ft²)</th>\n",
       "      <th>Source EUI (kBtu/ft²)</th>\n",
       "      <th>Release Date</th>\n",
       "      <th>Water Required?</th>\n",
       "      <th>DOF Benchmarking Submission Status</th>\n",
       "    </tr>\n",
       "  </thead>\n",
       "  <tbody>\n",
       "    <tr>\n",
       "      <th>0</th>\n",
       "      <td>1</td>\n",
       "      <td>13286</td>\n",
       "      <td>201/205</td>\n",
       "      <td>13286</td>\n",
       "      <td>201/205</td>\n",
       "      <td>1013160001</td>\n",
       "      <td>1013160001</td>\n",
       "      <td>1037549</td>\n",
       "      <td>201/205  East  42nd  st.</td>\n",
       "      <td>10017</td>\n",
       "      <td>...</td>\n",
       "      <td>6962.20</td>\n",
       "      <td>0.00</td>\n",
       "      <td>6962.20</td>\n",
       "      <td>762051</td>\n",
       "      <td>nan</td>\n",
       "      <td>nan</td>\n",
       "      <td>619.40</td>\n",
       "      <td>2017-05-01 17:32:03</td>\n",
       "      <td>No</td>\n",
       "      <td>In Compliance</td>\n",
       "    </tr>\n",
       "    <tr>\n",
       "      <th>1</th>\n",
       "      <td>2</td>\n",
       "      <td>28400</td>\n",
       "      <td>NYP Columbia (West Campus)</td>\n",
       "      <td>28400</td>\n",
       "      <td>NYP Columbia (West Campus)</td>\n",
       "      <td>1021380040</td>\n",
       "      <td>1-02138-0040</td>\n",
       "      <td>1084198; 1084387;1084385; 1084386; 1084388; 10...</td>\n",
       "      <td>622 168th Street</td>\n",
       "      <td>10032</td>\n",
       "      <td>...</td>\n",
       "      <td>55870.40</td>\n",
       "      <td>51016.40</td>\n",
       "      <td>4854.10</td>\n",
       "      <td>3889181</td>\n",
       "      <td>nan</td>\n",
       "      <td>nan</td>\n",
       "      <td>404.30</td>\n",
       "      <td>2017-04-27 11:23:27</td>\n",
       "      <td>No</td>\n",
       "      <td>In Compliance</td>\n",
       "    </tr>\n",
       "    <tr>\n",
       "      <th>2</th>\n",
       "      <td>3</td>\n",
       "      <td>4778226</td>\n",
       "      <td>MSCHoNY North</td>\n",
       "      <td>28400</td>\n",
       "      <td>NYP Columbia (West Campus)</td>\n",
       "      <td>1021380030</td>\n",
       "      <td>1-02138-0030</td>\n",
       "      <td>1063380</td>\n",
       "      <td>3975 Broadway</td>\n",
       "      <td>10032</td>\n",
       "      <td>...</td>\n",
       "      <td>0.00</td>\n",
       "      <td>0.00</td>\n",
       "      <td>0.00</td>\n",
       "      <td>231342</td>\n",
       "      <td>nan</td>\n",
       "      <td>nan</td>\n",
       "      <td>nan</td>\n",
       "      <td>2017-04-27 11:23:27</td>\n",
       "      <td>No</td>\n",
       "      <td>In Compliance</td>\n",
       "    </tr>\n",
       "    <tr>\n",
       "      <th>3</th>\n",
       "      <td>4</td>\n",
       "      <td>4778267</td>\n",
       "      <td>Herbert Irving Pavilion &amp; Millstein Hospital</td>\n",
       "      <td>28400</td>\n",
       "      <td>NYP Columbia (West Campus)</td>\n",
       "      <td>1021390001</td>\n",
       "      <td>1-02139-0001</td>\n",
       "      <td>1087281; 1076746</td>\n",
       "      <td>161 Fort Washington Ave</td>\n",
       "      <td>10032</td>\n",
       "      <td>...</td>\n",
       "      <td>0.00</td>\n",
       "      <td>0.00</td>\n",
       "      <td>0.00</td>\n",
       "      <td>1305748</td>\n",
       "      <td>nan</td>\n",
       "      <td>nan</td>\n",
       "      <td>nan</td>\n",
       "      <td>2017-04-27 11:23:27</td>\n",
       "      <td>No</td>\n",
       "      <td>In Compliance</td>\n",
       "    </tr>\n",
       "    <tr>\n",
       "      <th>4</th>\n",
       "      <td>5</td>\n",
       "      <td>4778288</td>\n",
       "      <td>Neuro Institute</td>\n",
       "      <td>28400</td>\n",
       "      <td>NYP Columbia (West Campus)</td>\n",
       "      <td>1021390085</td>\n",
       "      <td>1-02139-0085</td>\n",
       "      <td>1063403</td>\n",
       "      <td>710 West 168th Street</td>\n",
       "      <td>10032</td>\n",
       "      <td>...</td>\n",
       "      <td>0.00</td>\n",
       "      <td>0.00</td>\n",
       "      <td>0.00</td>\n",
       "      <td>179694</td>\n",
       "      <td>nan</td>\n",
       "      <td>nan</td>\n",
       "      <td>nan</td>\n",
       "      <td>2017-04-27 11:23:27</td>\n",
       "      <td>No</td>\n",
       "      <td>In Compliance</td>\n",
       "    </tr>\n",
       "  </tbody>\n",
       "</table>\n",
       "<p>5 rows × 43 columns</p>\n",
       "</div>"
      ],
      "text/plain": [
       "   Order  Property Id                                 Property Name  \\\n",
       "0      1        13286                                       201/205   \n",
       "1      2        28400                    NYP Columbia (West Campus)   \n",
       "2      3      4778226                                 MSCHoNY North   \n",
       "3      4      4778267  Herbert Irving Pavilion & Millstein Hospital   \n",
       "4      5      4778288                               Neuro Institute   \n",
       "\n",
       "  Parent Property Id        Parent Property Name BBL - 10 digits  \\\n",
       "0              13286                     201/205      1013160001   \n",
       "1              28400  NYP Columbia (West Campus)      1021380040   \n",
       "2              28400  NYP Columbia (West Campus)      1021380030   \n",
       "3              28400  NYP Columbia (West Campus)      1021390001   \n",
       "4              28400  NYP Columbia (West Campus)      1021390085   \n",
       "\n",
       "  NYC Borough, Block and Lot (BBL) self-reported  \\\n",
       "0                                     1013160001   \n",
       "1                                   1-02138-0040   \n",
       "2                                   1-02138-0030   \n",
       "3                                   1-02139-0001   \n",
       "4                                   1-02139-0085   \n",
       "\n",
       "            NYC Building Identification Number (BIN)  \\\n",
       "0                                            1037549   \n",
       "1  1084198; 1084387;1084385; 1084386; 1084388; 10...   \n",
       "2                                            1063380   \n",
       "3                                   1087281; 1076746   \n",
       "4                                            1063403   \n",
       "\n",
       "  Address 1 (self-reported) Postal Code                 ...                  \\\n",
       "0  201/205  East  42nd  st.       10017                 ...                   \n",
       "1          622 168th Street       10032                 ...                   \n",
       "2             3975 Broadway       10032                 ...                   \n",
       "3   161 Fort Washington Ave       10032                 ...                   \n",
       "4     710 West 168th Street       10032                 ...                   \n",
       "\n",
       "  Total GHG Emissions (Metric Tons CO2e)  \\\n",
       "0                                6962.20   \n",
       "1                               55870.40   \n",
       "2                                   0.00   \n",
       "3                                   0.00   \n",
       "4                                   0.00   \n",
       "\n",
       "  Direct GHG Emissions (Metric Tons CO2e)  \\\n",
       "0                                    0.00   \n",
       "1                                51016.40   \n",
       "2                                    0.00   \n",
       "3                                    0.00   \n",
       "4                                    0.00   \n",
       "\n",
       "  Indirect GHG Emissions (Metric Tons CO2e)  \\\n",
       "0                                   6962.20   \n",
       "1                                   4854.10   \n",
       "2                                      0.00   \n",
       "3                                      0.00   \n",
       "4                                      0.00   \n",
       "\n",
       "   Property GFA - Self-Reported (ft²) Water Use (All Water Sources) (kgal)  \\\n",
       "0                              762051                                  nan   \n",
       "1                             3889181                                  nan   \n",
       "2                              231342                                  nan   \n",
       "3                             1305748                                  nan   \n",
       "4                              179694                                  nan   \n",
       "\n",
       "  Water Intensity (All Water Sources) (gal/ft²) Source EUI (kBtu/ft²)  \\\n",
       "0                                           nan                619.40   \n",
       "1                                           nan                404.30   \n",
       "2                                           nan                   nan   \n",
       "3                                           nan                   nan   \n",
       "4                                           nan                   nan   \n",
       "\n",
       "         Release Date  Water Required?  DOF Benchmarking Submission Status  \n",
       "0 2017-05-01 17:32:03               No                       In Compliance  \n",
       "1 2017-04-27 11:23:27               No                       In Compliance  \n",
       "2 2017-04-27 11:23:27               No                       In Compliance  \n",
       "3 2017-04-27 11:23:27               No                       In Compliance  \n",
       "4 2017-04-27 11:23:27               No                       In Compliance  \n",
       "\n",
       "[5 rows x 43 columns]"
      ]
     },
     "execution_count": 232,
     "metadata": {},
     "output_type": "execute_result"
    }
   ],
   "source": [
    "# View the structure of the data\n",
    "df.head()"
   ]
  },
  {
   "cell_type": "markdown",
   "metadata": {},
   "source": [
    "<a id='prepare-cleaning'></a>"
   ]
  },
  {
   "cell_type": "markdown",
   "metadata": {},
   "source": [
    "### Cleaning\n",
    "\n",
    "#### Missing Values"
   ]
  },
  {
   "cell_type": "code",
   "execution_count": 233,
   "metadata": {
    "scrolled": true
   },
   "outputs": [
    {
     "name": "stdout",
     "output_type": "stream",
     "text": [
      "Order                                                         0.00\n",
      "Property Id                                                   0.00\n",
      "Property Name                                                 0.00\n",
      "Parent Property Id                                            0.00\n",
      "Parent Property Name                                          0.00\n",
      "BBL - 10 digits                                               0.00\n",
      "NYC Borough, Block and Lot (BBL) self-reported                0.09\n",
      "NYC Building Identification Number (BIN)                      1.38\n",
      "Address 1 (self-reported)                                     0.00\n",
      "Postal Code                                                   0.00\n",
      "Street Number                                                 1.06\n",
      "Street Name                                                   1.04\n",
      "Borough                                                       1.00\n",
      "DOF Gross Floor Area                                          1.00\n",
      "Primary Property Type - Self Selected                         0.00\n",
      "List of All Property Use Types at Property                    0.00\n",
      "Largest Property Use Type                                     0.02\n",
      "Largest Property Use Type - Gross Floor Area (ft²)            0.02\n",
      "Year Built                                                    0.00\n",
      "Number of Buildings - Self-reported                           0.00\n",
      "Occupancy                                                     0.00\n",
      "Metered Areas (Energy)                                        0.49\n",
      "Metered Areas  (Water)                                       39.24\n",
      "ENERGY STAR Score                                            17.91\n",
      "Site EUI (kBtu/ft²)                                           1.39\n",
      "Weather Normalized Site EUI (kBtu/ft²)                       12.47\n",
      "Weather Normalized Site Electricity Intensity (kWh/ft²)       6.70\n",
      "Weather Normalized Site Natural Gas Intensity (therms/ft²)   16.71\n",
      "Weather Normalized Source EUI (kBtu/ft²)                     12.47\n",
      "Natural Gas Use (kBtu)                                       12.28\n",
      "Weather Normalized Site Natural Gas Use (therms)             16.70\n",
      "Electricity Use - Grid Purchase (kBtu)                        2.08\n",
      "Weather Normalized Site Electricity (kWh)                     6.69\n",
      "Total GHG Emissions (Metric Tons CO2e)                        0.63\n",
      "Direct GHG Emissions (Metric Tons CO2e)                       0.71\n",
      "Indirect GHG Emissions (Metric Tons CO2e)                     0.55\n",
      "Property GFA - Self-Reported (ft²)                            0.00\n",
      "Water Use (All Water Sources) (kgal)                         33.92\n",
      "Water Intensity (All Water Sources) (gal/ft²)                33.92\n",
      "Source EUI (kBtu/ft²)                                         1.39\n",
      "Release Date                                                  0.00\n",
      "Water Required?                                               1.00\n",
      "DOF Benchmarking Submission Status                            0.26\n",
      "dtype: float64\n"
     ]
    }
   ],
   "source": [
    "# Note that NaNs are listed as \"Not Available\" in this data set\n",
    "# Change these to NaN\n",
    "df = df.replace('Not Available', np.NaN)\n",
    "\n",
    "# Display the percentage of missing values for each column\n",
    "pd.options.display.float_format = '{:.2f}'.format\n",
    "percent_nan = df.isna().sum()/len(df) * 100\n",
    "print(percent_nan)"
   ]
  },
  {
   "cell_type": "code",
   "execution_count": 235,
   "metadata": {},
   "outputs": [],
   "source": [
    "# Remove all columns that have more than 50% missing values\n",
    "df = df.loc[:, percent_nan < 50]"
   ]
  },
  {
   "cell_type": "markdown",
   "metadata": {},
   "source": [
    "#### Column Names"
   ]
  },
  {
   "cell_type": "code",
   "execution_count": 223,
   "metadata": {},
   "outputs": [
    {
     "name": "stdout",
     "output_type": "stream",
     "text": [
      "[   'Order',\n",
      "    'Property Id',\n",
      "    'Property Name',\n",
      "    'Parent Property Id',\n",
      "    'Parent Property Name',\n",
      "    'BBL - 10 digits',\n",
      "    'NYC Borough, Block and Lot (BBL) self-reported',\n",
      "    'NYC Building Identification Number (BIN)',\n",
      "    'Address 1 (self-reported)',\n",
      "    'Postal Code',\n",
      "    'Street Number',\n",
      "    'Street Name',\n",
      "    'Borough',\n",
      "    'DOF Gross Floor Area',\n",
      "    'Primary Property Type - Self Selected',\n",
      "    'List of All Property Use Types at Property',\n",
      "    'Largest Property Use Type',\n",
      "    'Largest Property Use Type - Gross Floor Area (ft²)',\n",
      "    'Year Built',\n",
      "    'Number of Buildings - Self-reported',\n",
      "    'Occupancy',\n",
      "    'Metered Areas (Energy)',\n",
      "    'Metered Areas  (Water)',\n",
      "    'ENERGY STAR Score',\n",
      "    'Site EUI (kBtu/ft²)',\n",
      "    'Weather Normalized Site EUI (kBtu/ft²)',\n",
      "    'Weather Normalized Site Electricity Intensity (kWh/ft²)',\n",
      "    'Weather Normalized Site Natural Gas Intensity (therms/ft²)',\n",
      "    'Weather Normalized Source EUI (kBtu/ft²)',\n",
      "    'Natural Gas Use (kBtu)',\n",
      "    'Weather Normalized Site Natural Gas Use (therms)',\n",
      "    'Electricity Use - Grid Purchase (kBtu)',\n",
      "    'Weather Normalized Site Electricity (kWh)',\n",
      "    'Total GHG Emissions (Metric Tons CO2e)',\n",
      "    'Direct GHG Emissions (Metric Tons CO2e)',\n",
      "    'Indirect GHG Emissions (Metric Tons CO2e)',\n",
      "    'Property GFA - Self-Reported (ft²)',\n",
      "    'Water Use (All Water Sources) (kgal)',\n",
      "    'Water Intensity (All Water Sources) (gal/ft²)',\n",
      "    'Source EUI (kBtu/ft²)',\n",
      "    'Release Date',\n",
      "    'Water Required?',\n",
      "    'DOF Benchmarking Submission Status']\n"
     ]
    }
   ],
   "source": [
    "# Look at the existing column names\n",
    "pp = pprint.PrettyPrinter(indent=4)\n",
    "pp.pprint(list(df.columns))"
   ]
  },
  {
   "cell_type": "code",
   "execution_count": 224,
   "metadata": {},
   "outputs": [
    {
     "name": "stdout",
     "output_type": "stream",
     "text": [
      "[   'order',\n",
      "    'id',\n",
      "    'name',\n",
      "    'prnt_id',\n",
      "    'prnt_name',\n",
      "    'brgh_blck_lt',\n",
      "    'brgh_blck_lt_self',\n",
      "    'bldng_id_no',\n",
      "    'addr_1_self',\n",
      "    'zip_code',\n",
      "    'st_no',\n",
      "    'st_name',\n",
      "    'brgh',\n",
      "    'flr_area',\n",
      "    'prim_type',\n",
      "    'all_type',\n",
      "    'lgst_type',\n",
      "    'lgst_type_area',\n",
      "    'year_built',\n",
      "    'no_bldngs',\n",
      "    'occupancy',\n",
      "    'mtrd_area_energy',\n",
      "    'mtrd_area_water',\n",
      "    'energy_star',\n",
      "    'eui',\n",
      "    'wthr_norm_site_eui',\n",
      "    'wthr_norm_site_elec_int',\n",
      "    'wthr_norm_site_gas_int',\n",
      "    'wthr_norm_src_eui',\n",
      "    'gas',\n",
      "    'wthr_norm_gas',\n",
      "    'elec',\n",
      "    'wthr_norm_elec',\n",
      "    'co2_tot',\n",
      "    'co2_dir',\n",
      "    'co2_ind',\n",
      "    'gfa_self',\n",
      "    'water',\n",
      "    'water_int',\n",
      "    'src_eui',\n",
      "    'rel_date',\n",
      "    'water_req',\n",
      "    'dof_bnchmrkng_sub_status']\n"
     ]
    }
   ],
   "source": [
    "# Rename columns so that they are easier to reference\n",
    "df = df.rename(index=str, columns={\"Order\": \"order\", \n",
    "                              \"Property Id\": \"id\", \n",
    "                              \"Property Name\": \"name\", \n",
    "                              \"Parent Property Id\": \"prnt_id\", \n",
    "                              \"Parent Property Name\": \"prnt_name\", \n",
    "                              \"BBL - 10 digits\": \"brgh_blck_lt\", \n",
    "                              \"NYC Borough, Block and Lot (BBL) self-reported\": \"brgh_blck_lt_self\", \n",
    "                              \"NYC Building Identification Number (BIN)\": \"bldng_id_no\", \n",
    "                              \"Address 1 (self-reported)\": \"addr_1_self\", \n",
    "                              \"Postal Code\": \"zip_code\", \n",
    "                              \"Street Number\": \"st_no\", \n",
    "                              \"Street Name\": \"st_name\", \n",
    "                              \"Borough\": \"brgh\", \n",
    "                              \"DOF Gross Floor Area\": \"flr_area\", \n",
    "                              \"Primary Property Type - Self Selected\": \"prim_type\", \n",
    "                              \"List of All Property Use Types at Property\": \"all_type\", \n",
    "                              \"Largest Property Use Type\": \"lgst_type\", \n",
    "                              \"Largest Property Use Type - Gross Floor Area (ft²)\": \"lgst_type_area\", \n",
    "                              \"Year Built\": \"year_built\", \n",
    "                              \"Number of Buildings - Self-reported\": \"no_bldngs\", \n",
    "                              \"Occupancy\": \"occupancy\", \n",
    "                              \"Metered Areas (Energy)\": \"mtrd_area_energy\", \n",
    "                              \"Metered Areas  (Water)\": \"mtrd_area_water\", \n",
    "                              \"ENERGY STAR Score\": \"energy_star\", \n",
    "                              \"Site EUI (kBtu/ft²)\": \"eui\", \n",
    "                              \"Weather Normalized Site EUI (kBtu/ft²)\": \"wthr_norm_site_eui\", \n",
    "                              \"Weather Normalized Site Electricity Intensity (kWh/ft²)\": \"wthr_norm_site_elec_int\", \n",
    "                              \"Weather Normalized Site Natural Gas Intensity (therms/ft²)\": \"wthr_norm_site_gas_int\", \n",
    "                              \"Weather Normalized Source EUI (kBtu/ft²)\": \"wthr_norm_src_eui\", \n",
    "                              \"Natural Gas Use (kBtu)\": \"gas\", \n",
    "                              \"Weather Normalized Site Natural Gas Use (therms)\": \"wthr_norm_gas\", \n",
    "                              \"Electricity Use - Grid Purchase (kBtu)\": \"elec\", \n",
    "                              \"Weather Normalized Site Electricity (kWh)\": \"wthr_norm_elec\", \n",
    "                              \"Total GHG Emissions (Metric Tons CO2e)\": \"co2_tot\", \n",
    "                              \"Direct GHG Emissions (Metric Tons CO2e)\": \"co2_dir\", \n",
    "                              \"Indirect GHG Emissions (Metric Tons CO2e)\": \"co2_ind\", \n",
    "                              \"Property GFA - Self-Reported (ft²)\": \"gfa_self\", \n",
    "                              \"Water Use (All Water Sources) (kgal)\": \"water\", \n",
    "                              \"Water Intensity (All Water Sources) (gal/ft²)\": \"water_int\", \n",
    "                              \"Source EUI (kBtu/ft²)\": \"src_eui\", \n",
    "                              \"Release Date\": \"rel_date\", \n",
    "                              \"Water Required?\": \"water_req\", \n",
    "                              \"DOF Benchmarking Submission Status\": \"dof_bnchmrkng_sub_status\"})\n",
    "pp.pprint(list(df.columns))"
   ]
  },
  {
   "cell_type": "markdown",
   "metadata": {},
   "source": [
    "<a id='analyze'></a>"
   ]
  },
  {
   "cell_type": "markdown",
   "metadata": {},
   "source": [
    "## Analyze"
   ]
  },
  {
   "cell_type": "markdown",
   "metadata": {},
   "source": [
    "<a id='analyze-pre-processing'></a>"
   ]
  },
  {
   "cell_type": "markdown",
   "metadata": {},
   "source": [
    "### Pre-processing"
   ]
  },
  {
   "cell_type": "markdown",
   "metadata": {},
   "source": [
    "<a id='analyze-modeling'></a>"
   ]
  },
  {
   "cell_type": "markdown",
   "metadata": {},
   "source": [
    "### Modeling"
   ]
  },
  {
   "cell_type": "markdown",
   "metadata": {},
   "source": [
    "<a id='analyze-hyper-parameter-tuning'></a>"
   ]
  },
  {
   "cell_type": "markdown",
   "metadata": {},
   "source": [
    "### Hyper-parameter Tuning"
   ]
  },
  {
   "cell_type": "markdown",
   "metadata": {},
   "source": [
    "<a id='reflect'></a>"
   ]
  },
  {
   "cell_type": "markdown",
   "metadata": {},
   "source": [
    "## Reflect"
   ]
  },
  {
   "cell_type": "code",
   "execution_count": null,
   "metadata": {},
   "outputs": [],
   "source": []
  }
 ],
 "metadata": {
  "kernelspec": {
   "display_name": "Python 3",
   "language": "python",
   "name": "python3"
  },
  "language_info": {
   "codemirror_mode": {
    "name": "ipython",
    "version": 3
   },
   "file_extension": ".py",
   "mimetype": "text/x-python",
   "name": "python",
   "nbconvert_exporter": "python",
   "pygments_lexer": "ipython3",
   "version": "3.7.0"
  }
 },
 "nbformat": 4,
 "nbformat_minor": 2
}
