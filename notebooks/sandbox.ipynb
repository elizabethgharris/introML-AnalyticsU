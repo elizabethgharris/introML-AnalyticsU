{
 "cells": [
  {
   "cell_type": "markdown",
   "metadata": {},
   "source": [
    "\n",
    "# Introduction to Machine Learning\n",
    "\n",
    "An interactive Machine Learning example written in Python, broken into the following sections:\n",
    "\n",
    "1. [Scope](#scope)\n",
    "  1. [Problem Definition](#scope-problem-definition)\n",
    "  1. [Data](#scope-data)\n",
    "1. [Prepare](#prepare)\n",
    "  1. [Import](#prepare-import)\n",
    "  1. [Train Test Split](#prepare-train-test-split)\n",
    "  1. [Cleaning](#prepare-cleaning)\n",
    "1. [Analyze](#analyze)\n",
    "  1. [Pre-processing](#analyze-pre-processing)\n",
    "  1. [Exploratory Data Analysis](#analyze-exploratory-data-analysis)\n",
    "  1. [Modeling](#analyze-modeling)\n",
    "  1. [Hyper-parameter Tuning](#analyze-hyper-parameter-tuning)\n",
    "1. [Reflect](#reflect)"
   ]
  },
  {
   "cell_type": "markdown",
   "metadata": {},
   "source": [
    "<a id='scope'></a>"
   ]
  },
  {
   "cell_type": "markdown",
   "metadata": {},
   "source": [
    "## Scope"
   ]
  },
  {
   "cell_type": "markdown",
   "metadata": {},
   "source": [
    "<a id='scope-problem-definition'></a>"
   ]
  },
  {
   "cell_type": "markdown",
   "metadata": {},
   "source": [
    "### Problem Definition\n",
    "\n",
    "We seek to answer the following questions by applying Machine Learning techniques to the NYC Mayor's Office of Sustainability dataset on green buildings and energy efficiency:\n",
    "\n",
    "1. Given a buidling's characteristics, can we predict what its energy usage intensity will be?\n",
    "  - Could be useful for urban planners to proactively estimate energy consumption of various of living spaces.\n",
    "1. Given a buidling's characteristics and energy use, can we predict what its Energy Star rating would be?\n",
    "  - Could be useful for Energy Star to assist in assigning ratings to buildings without a score.\n",
    "  - Could be useful for architects to predict the Energy Star scores of different designs.\n",
    "1. What sources of energy cause the most greenhouse gas emissions for a property?\n",
    "  - Could be useful for policy makers to see what sources of energy produce the most greenhouse gas emissions.\n",
    "1. What factors lead to energy loss between the source of generation and the site of the property?\n",
    "  - Could be useful for engineers to identify which locations, property usages, sources of energy, etc. lead to the most energy loss and adjust the energy grid accordingly."
   ]
  },
  {
   "cell_type": "markdown",
   "metadata": {},
   "source": [
    "<a id='scope-data'></a>"
   ]
  },
  {
   "cell_type": "markdown",
   "metadata": {},
   "source": [
    "### Data\n",
    "\n",
    "#### Citation\n",
    "\n",
    "```\n",
    "NYC Mayor's Office of Sustainability, Green Buildings & Energy Efficiency. (2017). [Data set]. \n",
    "    Retrieved from http://www.nyc.gov/html/gbee/html/plan/ll84_scores.shtml\n",
    "```\n",
    "\n",
    "#### Dimensions\n",
    "\n",
    "| Column                                                     | Functional Data Type    | Technical Data Type |\n",
    "|------------------------------------------------------------|-------------------------|---------------------|\n",
    "| Order                                                      | index                   | integer             |\n",
    "| Property Id                                                | identifier              | text                |\n",
    "| Property Name                                              | identifier              | text                |\n",
    "| Parent Property Id                                         | identifier              | text                |\n",
    "| Parent Property Name                                       | identifier              | text                |\n",
    "| BBL - 10 digits                                            | identifier              | text                |\n",
    "| NYC Borough, Block and Lot (BBL) self-reported             | identifier              | text                |\n",
    "| NYC Building Identification Number (BIN)                   | identifier              | text                |\n",
    "| Address 1 (self-reported)                                  | location                | text                |\n",
    "| Address 2                                                  | location                | text                |\n",
    "| Postal Code                                                | location                | text                |\n",
    "| Street Number                                              | location                | text                |\n",
    "| Street Name                                                | location                | text                |\n",
    "| Borough                                                    | location                | catagorical         |\n",
    "| DOF Gross Floor Area                                       | building characteristic | numeric             |\n",
    "| Primary Property Type - Self Selected                      | building characteristic | categorical         |\n",
    "| List of All Property Use Types at Property                 | building characteristic | [categorical]       |\n",
    "| Largest Property Use Type                                  | building characteristic | categorical         |\n",
    "| Largest Property Use Type - Gross Floor Area (ft²)         | building characteristic | numeric             |\n",
    "| 2nd Largest Property Use Type                              | building characteristic | categorical         |\n",
    "| 2nd Largest Property Use - Gross Floor Area (ft²)          | building characteristic | numeric             |\n",
    "| 3rd Largest Property Use Type                              | building characteristic | categorical         |\n",
    "| 3rd Largest Property Use Type - Gross Floor Area (ft²)     | building characteristic | numeric             |\n",
    "| Year Built                                                 | building characteristic | time                |\n",
    "| Number of Buildings - Self-reported                        | building characteristic | integer             |\n",
    "| Occupancy                                                  | building characteristic | percentage          |\n",
    "| Metered Areas (Energy)                                     | building characteristic | categorical         |\n",
    "| Metered Areas (Water)                                      | building characteristic | categorical         |\n",
    "| ENERGY STAR Score                                          | score                   | numeric             |\n",
    "| Site EUI (kBtu/ft²)                                        | energy usage            | numeric             |\n",
    "| Weather Normalized Site EUI (kBtu/ft²)                     | energy usage            | numeric             |\n",
    "| Weather Normalized Site Electricity Intensity (kWh/ft²)    | energy usage            | numeric             |\n",
    "| Weather Normalized Site Natural Gas Intensity (therms/ft²) | energy usage            | numeric             |\n",
    "| Weather Normalized Source EUI (kBtu/ft²)                   | energy usage            | numeric             |\n",
    "| Fuel Oil #1 Use (kBtu)                                     | energy usage            | numeric             |\n",
    "| Fuel Oil #2 Use (kBtu)                                     | energy usage            | numeric             |\n",
    "| Fuel Oil #4 Use (kBtu)                                     | energy usage            | numeric             |\n",
    "| Fuel Oil #5 &amp; 6 Use (kBtu)                             | energy usage            | numeric             |\n",
    "| Diesel #2 Use (kBtu)                                       | energy usage            | numeric             |\n",
    "| District Steam Use (kBtu)                                  | energy usage            | numeric             |\n",
    "| Natural Gas Use (kBtu)                                     | energy usage            | numeric             |\n",
    "| Weather Normalized Site Natural Gas Use (therms)           | energy usage            | numeric             |\n",
    "| Electricity Use - Grid Purchase (kBtu)                     | energy usage            | numeric             |\n",
    "| Weather Normalized Site Electricity (kWh)                  | energy usage            | numeric             |\n",
    "| Total GHG Emissions (Metric Tons CO2e)                     | environmental footprint | numeric             |\n",
    "| Direct GHG Emissions (Metric Tons CO2e)                    | environmental footprint | numeric             |\n",
    "| Indirect GHG Emissions (Metric Tons CO2e)                  | environmental footprint | numeric             |\n",
    "| Property GFA - Self-Reported (ft²)                         | building characteristic | numeric             |\n",
    "| Water Use (All Water Sources) (kgal)                       | resource usage          | numeric             |\n",
    "| Water Intensity (All Water Sources) (gal/ft²)              | resource usage          | numeric             |\n",
    "| Source EUI (kBtu/ft²)                                      | energy usage            | numeric             |\n",
    "| Release Date                                               | metadata                | time                |\n",
    "| Water Required?                                            | building characteristic | categorical         |\n",
    "| DOF Benchmarking Submission Status                         | metadata                | categorical         |"
   ]
  },
  {
   "cell_type": "markdown",
   "metadata": {},
   "source": [
    "<a id='prepare'></a>"
   ]
  },
  {
   "cell_type": "markdown",
   "metadata": {},
   "source": [
    "## Prepare"
   ]
  },
  {
   "cell_type": "markdown",
   "metadata": {},
   "source": [
    "<a id='prepare-import'></a>"
   ]
  },
  {
   "cell_type": "markdown",
   "metadata": {},
   "source": [
    "### Import"
   ]
  },
  {
   "cell_type": "code",
   "execution_count": 1,
   "metadata": {},
   "outputs": [],
   "source": [
    "import os\n",
    "import numpy as np\n",
    "import pandas as pd\n",
    "import matplotlib.pyplot as plt"
   ]
  },
  {
   "cell_type": "code",
   "execution_count": 2,
   "metadata": {},
   "outputs": [],
   "source": [
    "# Import the data\n",
    "data_path = os.path.join(os.path.abspath('..'), 'data', 'nyc_benchmarking_disclosure_data_reported_in_2017.xlsx')\n",
    "df = pd.read_excel(data_path, sheet_name='Information and Metrics')"
   ]
  },
  {
   "cell_type": "code",
   "execution_count": 3,
   "metadata": {
    "scrolled": false
   },
   "outputs": [
    {
     "data": {
      "text/html": [
       "<div>\n",
       "<style scoped>\n",
       "    .dataframe tbody tr th:only-of-type {\n",
       "        vertical-align: middle;\n",
       "    }\n",
       "\n",
       "    .dataframe tbody tr th {\n",
       "        vertical-align: top;\n",
       "    }\n",
       "\n",
       "    .dataframe thead th {\n",
       "        text-align: right;\n",
       "    }\n",
       "</style>\n",
       "<table border=\"1\" class=\"dataframe\">\n",
       "  <thead>\n",
       "    <tr style=\"text-align: right;\">\n",
       "      <th></th>\n",
       "      <th>Order</th>\n",
       "      <th>Property Id</th>\n",
       "      <th>Property Name</th>\n",
       "      <th>Parent Property Id</th>\n",
       "      <th>Parent Property Name</th>\n",
       "      <th>BBL - 10 digits</th>\n",
       "      <th>NYC Borough, Block and Lot (BBL) self-reported</th>\n",
       "      <th>NYC Building Identification Number (BIN)</th>\n",
       "      <th>Address 1 (self-reported)</th>\n",
       "      <th>Address 2</th>\n",
       "      <th>...</th>\n",
       "      <th>Total GHG Emissions (Metric Tons CO2e)</th>\n",
       "      <th>Direct GHG Emissions (Metric Tons CO2e)</th>\n",
       "      <th>Indirect GHG Emissions (Metric Tons CO2e)</th>\n",
       "      <th>Property GFA - Self-Reported (ft²)</th>\n",
       "      <th>Water Use (All Water Sources) (kgal)</th>\n",
       "      <th>Water Intensity (All Water Sources) (gal/ft²)</th>\n",
       "      <th>Source EUI (kBtu/ft²)</th>\n",
       "      <th>Release Date</th>\n",
       "      <th>Water Required?</th>\n",
       "      <th>DOF Benchmarking Submission Status</th>\n",
       "    </tr>\n",
       "  </thead>\n",
       "  <tbody>\n",
       "    <tr>\n",
       "      <th>0</th>\n",
       "      <td>1</td>\n",
       "      <td>13286</td>\n",
       "      <td>201/205</td>\n",
       "      <td>13286</td>\n",
       "      <td>201/205</td>\n",
       "      <td>1013160001</td>\n",
       "      <td>1013160001</td>\n",
       "      <td>1037549</td>\n",
       "      <td>201/205  East  42nd  st.</td>\n",
       "      <td>Not Available</td>\n",
       "      <td>...</td>\n",
       "      <td>6962.2</td>\n",
       "      <td>0</td>\n",
       "      <td>6962.2</td>\n",
       "      <td>762051</td>\n",
       "      <td>Not Available</td>\n",
       "      <td>Not Available</td>\n",
       "      <td>619.4</td>\n",
       "      <td>2017-05-01 17:32:03</td>\n",
       "      <td>No</td>\n",
       "      <td>In Compliance</td>\n",
       "    </tr>\n",
       "    <tr>\n",
       "      <th>1</th>\n",
       "      <td>2</td>\n",
       "      <td>28400</td>\n",
       "      <td>NYP Columbia (West Campus)</td>\n",
       "      <td>28400</td>\n",
       "      <td>NYP Columbia (West Campus)</td>\n",
       "      <td>1021380040</td>\n",
       "      <td>1-02138-0040</td>\n",
       "      <td>1084198; 1084387;1084385; 1084386; 1084388; 10...</td>\n",
       "      <td>622 168th Street</td>\n",
       "      <td>Not Available</td>\n",
       "      <td>...</td>\n",
       "      <td>55870.4</td>\n",
       "      <td>51016.4</td>\n",
       "      <td>4854.1</td>\n",
       "      <td>3889181</td>\n",
       "      <td>Not Available</td>\n",
       "      <td>Not Available</td>\n",
       "      <td>404.3</td>\n",
       "      <td>2017-04-27 11:23:27</td>\n",
       "      <td>No</td>\n",
       "      <td>In Compliance</td>\n",
       "    </tr>\n",
       "    <tr>\n",
       "      <th>2</th>\n",
       "      <td>3</td>\n",
       "      <td>4778226</td>\n",
       "      <td>MSCHoNY North</td>\n",
       "      <td>28400</td>\n",
       "      <td>NYP Columbia (West Campus)</td>\n",
       "      <td>1021380030</td>\n",
       "      <td>1-02138-0030</td>\n",
       "      <td>1063380</td>\n",
       "      <td>3975 Broadway</td>\n",
       "      <td>Not Available</td>\n",
       "      <td>...</td>\n",
       "      <td>0</td>\n",
       "      <td>0</td>\n",
       "      <td>0</td>\n",
       "      <td>231342</td>\n",
       "      <td>Not Available</td>\n",
       "      <td>Not Available</td>\n",
       "      <td>Not Available</td>\n",
       "      <td>2017-04-27 11:23:27</td>\n",
       "      <td>No</td>\n",
       "      <td>In Compliance</td>\n",
       "    </tr>\n",
       "    <tr>\n",
       "      <th>3</th>\n",
       "      <td>4</td>\n",
       "      <td>4778267</td>\n",
       "      <td>Herbert Irving Pavilion &amp; Millstein Hospital</td>\n",
       "      <td>28400</td>\n",
       "      <td>NYP Columbia (West Campus)</td>\n",
       "      <td>1021390001</td>\n",
       "      <td>1-02139-0001</td>\n",
       "      <td>1087281; 1076746</td>\n",
       "      <td>161 Fort Washington Ave</td>\n",
       "      <td>177 Fort Washington Ave</td>\n",
       "      <td>...</td>\n",
       "      <td>0</td>\n",
       "      <td>0</td>\n",
       "      <td>0</td>\n",
       "      <td>1305748</td>\n",
       "      <td>Not Available</td>\n",
       "      <td>Not Available</td>\n",
       "      <td>Not Available</td>\n",
       "      <td>2017-04-27 11:23:27</td>\n",
       "      <td>No</td>\n",
       "      <td>In Compliance</td>\n",
       "    </tr>\n",
       "    <tr>\n",
       "      <th>4</th>\n",
       "      <td>5</td>\n",
       "      <td>4778288</td>\n",
       "      <td>Neuro Institute</td>\n",
       "      <td>28400</td>\n",
       "      <td>NYP Columbia (West Campus)</td>\n",
       "      <td>1021390085</td>\n",
       "      <td>1-02139-0085</td>\n",
       "      <td>1063403</td>\n",
       "      <td>710 West 168th Street</td>\n",
       "      <td>Not Available</td>\n",
       "      <td>...</td>\n",
       "      <td>0</td>\n",
       "      <td>0</td>\n",
       "      <td>0</td>\n",
       "      <td>179694</td>\n",
       "      <td>Not Available</td>\n",
       "      <td>Not Available</td>\n",
       "      <td>Not Available</td>\n",
       "      <td>2017-04-27 11:23:27</td>\n",
       "      <td>No</td>\n",
       "      <td>In Compliance</td>\n",
       "    </tr>\n",
       "  </tbody>\n",
       "</table>\n",
       "<p>5 rows × 54 columns</p>\n",
       "</div>"
      ],
      "text/plain": [
       "   Order  Property Id                                 Property Name  \\\n",
       "0      1        13286                                       201/205   \n",
       "1      2        28400                    NYP Columbia (West Campus)   \n",
       "2      3      4778226                                 MSCHoNY North   \n",
       "3      4      4778267  Herbert Irving Pavilion & Millstein Hospital   \n",
       "4      5      4778288                               Neuro Institute   \n",
       "\n",
       "  Parent Property Id        Parent Property Name BBL - 10 digits  \\\n",
       "0              13286                     201/205      1013160001   \n",
       "1              28400  NYP Columbia (West Campus)      1021380040   \n",
       "2              28400  NYP Columbia (West Campus)      1021380030   \n",
       "3              28400  NYP Columbia (West Campus)      1021390001   \n",
       "4              28400  NYP Columbia (West Campus)      1021390085   \n",
       "\n",
       "  NYC Borough, Block and Lot (BBL) self-reported  \\\n",
       "0                                     1013160001   \n",
       "1                                   1-02138-0040   \n",
       "2                                   1-02138-0030   \n",
       "3                                   1-02139-0001   \n",
       "4                                   1-02139-0085   \n",
       "\n",
       "            NYC Building Identification Number (BIN)  \\\n",
       "0                                            1037549   \n",
       "1  1084198; 1084387;1084385; 1084386; 1084388; 10...   \n",
       "2                                            1063380   \n",
       "3                                   1087281; 1076746   \n",
       "4                                            1063403   \n",
       "\n",
       "  Address 1 (self-reported)                Address 2  \\\n",
       "0  201/205  East  42nd  st.            Not Available   \n",
       "1          622 168th Street            Not Available   \n",
       "2             3975 Broadway            Not Available   \n",
       "3   161 Fort Washington Ave  177 Fort Washington Ave   \n",
       "4     710 West 168th Street            Not Available   \n",
       "\n",
       "                 ...                 Total GHG Emissions (Metric Tons CO2e)  \\\n",
       "0                ...                                                 6962.2   \n",
       "1                ...                                                55870.4   \n",
       "2                ...                                                      0   \n",
       "3                ...                                                      0   \n",
       "4                ...                                                      0   \n",
       "\n",
       "  Direct GHG Emissions (Metric Tons CO2e)  \\\n",
       "0                                       0   \n",
       "1                                 51016.4   \n",
       "2                                       0   \n",
       "3                                       0   \n",
       "4                                       0   \n",
       "\n",
       "  Indirect GHG Emissions (Metric Tons CO2e)  \\\n",
       "0                                    6962.2   \n",
       "1                                    4854.1   \n",
       "2                                         0   \n",
       "3                                         0   \n",
       "4                                         0   \n",
       "\n",
       "  Property GFA - Self-Reported (ft²)  Water Use (All Water Sources) (kgal)  \\\n",
       "0                             762051                         Not Available   \n",
       "1                            3889181                         Not Available   \n",
       "2                             231342                         Not Available   \n",
       "3                            1305748                         Not Available   \n",
       "4                             179694                         Not Available   \n",
       "\n",
       "  Water Intensity (All Water Sources) (gal/ft²) Source EUI (kBtu/ft²)  \\\n",
       "0                                 Not Available                 619.4   \n",
       "1                                 Not Available                 404.3   \n",
       "2                                 Not Available         Not Available   \n",
       "3                                 Not Available         Not Available   \n",
       "4                                 Not Available         Not Available   \n",
       "\n",
       "         Release Date Water Required? DOF Benchmarking Submission Status  \n",
       "0 2017-05-01 17:32:03              No                      In Compliance  \n",
       "1 2017-04-27 11:23:27              No                      In Compliance  \n",
       "2 2017-04-27 11:23:27              No                      In Compliance  \n",
       "3 2017-04-27 11:23:27              No                      In Compliance  \n",
       "4 2017-04-27 11:23:27              No                      In Compliance  \n",
       "\n",
       "[5 rows x 54 columns]"
      ]
     },
     "execution_count": 3,
     "metadata": {},
     "output_type": "execute_result"
    }
   ],
   "source": [
    "# View the structure of the data\n",
    "df.head()"
   ]
  },
  {
   "cell_type": "markdown",
   "metadata": {},
   "source": [
    "<a id='prepare-train-test-split'></a>"
   ]
  },
  {
   "cell_type": "markdown",
   "metadata": {},
   "source": [
    "### Train Test Split"
   ]
  },
  {
   "cell_type": "code",
   "execution_count": null,
   "metadata": {},
   "outputs": [],
   "source": [
    "# Hold out a portion of the data for testing\n",
    "from sklearn.model_selection import train_test_split\n",
    "df_train, df_test = train_test_split(df, test_size=0.25)\n",
    "\n",
    "# Furthermore, hold out a portion of the training set for validation\n",
    "df_train, df_valid = train_test_split(df_train, test_size=0.25)\n",
    "\n",
    "# Print the shape of each\n",
    "print(df_train.shape)\n",
    "print(df_valid.shape)\n",
    "print(df_test.shape)"
   ]
  },
  {
   "cell_type": "markdown",
   "metadata": {},
   "source": [
    "<a id='prepare-cleaning'></a>"
   ]
  },
  {
   "cell_type": "markdown",
   "metadata": {},
   "source": [
    "### Cleaning"
   ]
  },
  {
   "cell_type": "markdown",
   "metadata": {},
   "source": [
    "#### Column Types"
   ]
  },
  {
   "cell_type": "code",
   "execution_count": null,
   "metadata": {},
   "outputs": [],
   "source": [
    "# We will define each cleaning step as a function,\n",
    "# so that we can apply the same rules to our validation and test sets\n",
    "def clean_missing_value_text(df, text):\n",
    "    return df.replace(text, np.NaN)"
   ]
  },
  {
   "cell_type": "code",
   "execution_count": null,
   "metadata": {},
   "outputs": [],
   "source": [
    "def clean_col_types(df):\n",
    "    return df.astype(dtype={'Order': 'int64',\n",
    "                            'Property Id': 'object',\n",
    "                            'Property Name': 'object',\n",
    "                            'Parent Property Id': 'object',\n",
    "                            'Parent Property Name': 'object',\n",
    "                            'BBL - 10 digits': 'object',\n",
    "                            'NYC Borough, Block and Lot (BBL) self-reported': 'object',\n",
    "                            'NYC Building Identification Number (BIN)': 'object',\n",
    "                            'Address 1 (self-reported)': 'object',\n",
    "                            'Address 2': 'object',\n",
    "                            'Postal Code': 'object',\n",
    "                            'Street Number': 'object',\n",
    "                            'Street Name': 'object',\n",
    "                            'Borough': 'category',\n",
    "                            'DOF Gross Floor Area': 'float64',\n",
    "                            'Primary Property Type - Self Selected': 'category',\n",
    "                            'List of All Property Use Types at Property': 'object',\n",
    "                            'Largest Property Use Type': 'category',\n",
    "                            'Largest Property Use Type - Gross Floor Area (ft²)': 'float64',\n",
    "                            '2nd Largest Property Use Type': 'category',\n",
    "                            '2nd Largest Property Use - Gross Floor Area (ft²)': 'float64',\n",
    "                            '3rd Largest Property Use Type': 'category',\n",
    "                            '3rd Largest Property Use Type - Gross Floor Area (ft²)': 'float64',\n",
    "                            'Year Built': 'int64',\n",
    "                            'Number of Buildings - Self-reported': 'int64',\n",
    "                            'Occupancy': 'float64',\n",
    "                            'Metered Areas (Energy)': 'category',\n",
    "                            'Metered Areas  (Water)': 'category',\n",
    "                            'ENERGY STAR Score': 'float64',\n",
    "                            'Site EUI (kBtu/ft²)': 'float64',\n",
    "                            'Weather Normalized Site EUI (kBtu/ft²)': 'float64',\n",
    "                            'Weather Normalized Site Electricity Intensity (kWh/ft²)': 'float64',\n",
    "                            'Weather Normalized Site Natural Gas Intensity (therms/ft²)': 'float64',\n",
    "                            'Weather Normalized Source EUI (kBtu/ft²)': 'float64',\n",
    "                            'Fuel Oil #1 Use (kBtu)': 'float64',\n",
    "                            'Fuel Oil #2 Use (kBtu)': 'float64',\n",
    "                            'Fuel Oil #4 Use (kBtu)': 'float64',\n",
    "                            'Fuel Oil #5 & 6 Use (kBtu)': 'float64',\n",
    "                            'Diesel #2 Use (kBtu)': 'float64',\n",
    "                            'District Steam Use (kBtu)': 'float64',\n",
    "                            'Natural Gas Use (kBtu)': 'float64',\n",
    "                            'Weather Normalized Site Natural Gas Use (therms)': 'float64',\n",
    "                            'Electricity Use - Grid Purchase (kBtu)': 'float64',\n",
    "                            'Weather Normalized Site Electricity (kWh)': 'float64',\n",
    "                            'Total GHG Emissions (Metric Tons CO2e)': 'float64',\n",
    "                            'Direct GHG Emissions (Metric Tons CO2e)': 'float64',\n",
    "                            'Indirect GHG Emissions (Metric Tons CO2e)': 'float64',\n",
    "                            'Property GFA - Self-Reported (ft²)': 'float64',\n",
    "                            'Water Use (All Water Sources) (kgal)': 'float64',\n",
    "                            'Water Intensity (All Water Sources) (gal/ft²)': 'float64',\n",
    "                            'Source EUI (kBtu/ft²)': 'float64',\n",
    "                            'Release Date': 'int64',\n",
    "                            'Water Required?': 'category',\n",
    "                            'DOF Benchmarking Submission Status': 'category'})"
   ]
  },
  {
   "cell_type": "code",
   "execution_count": null,
   "metadata": {},
   "outputs": [],
   "source": [
    "# Notice above that missing values are actually listed as 'Not Available'\n",
    "# We cannot set columns to a numeric data type correctly when they contain the 'Not Available' text\n",
    "# Instead, we can replace each 'Not Available' with NaN, which is widely recognized by Python libraries\n",
    "df_train = clean_missing_value_text(df_train, text='Not Available')\n",
    "\n",
    "# See what the column types are now\n",
    "# Will want to change these based on the dimensions table above\n",
    "print()\n",
    "print('Data types - before cleaning')\n",
    "print('----------------------------')\n",
    "df_train.info()\n",
    "\n",
    "# Clean the column types\n",
    "df_train = clean_col_types(df_train)\n",
    "\n",
    "# Confirm that the types were changed\n",
    "print()\n",
    "print('Data types - after cleaning')\n",
    "print('---------------------------')\n",
    "df_train.info()"
   ]
  },
  {
   "cell_type": "markdown",
   "metadata": {},
   "source": [
    "#### Missing Values"
   ]
  },
  {
   "cell_type": "code",
   "execution_count": null,
   "metadata": {},
   "outputs": [],
   "source": [
    "# Function to calculate the percent of missing values for each column in a data frame\n",
    "def calc_percent_nan_col(df):\n",
    "    return df.isna().sum(axis=0)/df.shape[0] * 100"
   ]
  },
  {
   "cell_type": "code",
   "execution_count": null,
   "metadata": {},
   "outputs": [],
   "source": [
    "# Function to calculate the percent of missing values for each row in a data frame\n",
    "def calc_percent_nan_row(df):\n",
    "    return df.isna().sum(axis=1)/df.shape[1] * 100"
   ]
  },
  {
   "cell_type": "code",
   "execution_count": null,
   "metadata": {},
   "outputs": [],
   "source": [
    "# Function to pretty print pandas objects in percent format (like 100.00%)\n",
    "def pprint_percent(pd_obj):\n",
    "    \n",
    "    # Format percents like 100.00%\n",
    "    original_format = pd.options.display.float_format\n",
    "    pd.options.display.float_format = '{:.2f}%'.format\n",
    "    \n",
    "    # Print\n",
    "    print()\n",
    "    print(pd_obj)\n",
    "    print()\n",
    "    \n",
    "    # Reset the pandas formatter\n",
    "    pd.options.display.float_format = original_format"
   ]
  },
  {
   "cell_type": "code",
   "execution_count": null,
   "metadata": {},
   "outputs": [],
   "source": [
    "# Function to remove columns and rows that have over a certain percent missing values\n",
    "def clean_missing_values(df, col_perc=33, row_perc=33):\n",
    "\n",
    "    # Remove all columns that have more than 33% missing values\n",
    "    df = df.loc[:, calc_percent_nan_col(df) < col_perc]\n",
    "    \n",
    "    # Remove all rows that have more than 33% missing values\n",
    "    df = df.loc[calc_percent_nan_row(df) < row_perc, :]\n",
    "        \n",
    "    return df"
   ]
  },
  {
   "cell_type": "code",
   "execution_count": null,
   "metadata": {},
   "outputs": [],
   "source": [
    "# See what percent of each column in the training set is missing values\n",
    "print()\n",
    "print('Percent NaNs in each column - before cleaning')\n",
    "print('---------------------------------------------')\n",
    "pprint_percent(calc_percent_nan_col(df_train))\n",
    "\n",
    "# See what percent of each row in the training set is missing values\n",
    "hist = calc_percent_nan_row(df_train).hist()\n",
    "print()\n",
    "print('Percent NaNs in each row - before cleaning')\n",
    "print('------------------------------------------')\n",
    "plt.show()\n",
    "\n",
    "# Clean\n",
    "df_train = clean_missing_values(df_train)\n",
    "\n",
    "# For just the training set, also remove rows missing the target\n",
    "df_train = df_train.loc[-df_train.loc[:, 'ENERGY STAR Score'].isna(), :]\n",
    "\n",
    "# See what percent of each column in the training set is missing values, after cleaning\n",
    "print()\n",
    "print('Percent NaNs in each column - after cleaning')\n",
    "print('--------------------------------------------')\n",
    "pprint_percent(calc_percent_nan_col(df_train))\n",
    "\n",
    "# See what percent of each row in the training set is missing values, after cleaning\n",
    "print()\n",
    "print('Percent NaNs in each row - after cleaning')\n",
    "print('-----------------------------------------')\n",
    "hist = calc_percent_nan_row(df_train).hist()\n",
    "plt.show()\n"
   ]
  },
  {
   "cell_type": "markdown",
   "metadata": {},
   "source": [
    "#### Outliers"
   ]
  },
  {
   "cell_type": "code",
   "execution_count": null,
   "metadata": {},
   "outputs": [],
   "source": [
    "# https://www.itl.nist.gov/div898/handbook/prc/section1/prc16.htm\n",
    "def clean_outliers(df, lower_quantile=0.25, upper_quantile=0.75, lower_multiplier=3, upper_multiplier=3):\n",
    "    \n",
    "    # Inner quartile\n",
    "    q1 = df.quantile(lower_quantile)\n",
    "    q3 = df.quantile(upper_quantile)\n",
    "    iq = q3 - q1\n",
    "\n",
    "    # Lower bound\n",
    "    lb = q1 - lower_multiplier * iq\n",
    "\n",
    "    # Upper bound\n",
    "    ub = q3 + upper_multiplier * iq\n",
    "\n",
    "    # Remove the outliers (but keep missing values)\n",
    "    for col in lb.index:\n",
    "        df = df.loc[(df[col] >= lb[col]) | df[col].isna(), :] # Remove lower-bound outliers\n",
    "        df = df.loc[(df[col] <= ub[col]) | df[col].isna(), :] # Remove upper-bound outliers\n",
    "    return df"
   ]
  },
  {
   "cell_type": "code",
   "execution_count": null,
   "metadata": {},
   "outputs": [],
   "source": [
    "# Check the distributions of numeric columns before cleaning outliers\n",
    "# Note the large domain\n",
    "print()\n",
    "print('Histograms - before cleaning')\n",
    "print('----------------------------')\n",
    "hist = df_train.hist(figsize=(30, 30))\n",
    "plt.show()\n",
    "\n",
    "# Remove outliers\n",
    "df_train = clean_outliers(df_train)\n",
    "\n",
    "# Now we have cleaner numeric columns\n",
    "print()\n",
    "print('Histograms - after cleaning')\n",
    "print('---------------------------')\n",
    "hist = df_train.hist(figsize=(30, 30))\n",
    "plt.show()"
   ]
  },
  {
   "cell_type": "markdown",
   "metadata": {},
   "source": [
    "<a id='analyze'></a>"
   ]
  },
  {
   "cell_type": "markdown",
   "metadata": {},
   "source": [
    "## Analyze"
   ]
  },
  {
   "cell_type": "markdown",
   "metadata": {},
   "source": [
    "<a id='analyze-pre-processing'></a>"
   ]
  },
  {
   "cell_type": "markdown",
   "metadata": {},
   "source": [
    "### Pre-processing\n",
    "Imputation (move from above)\n",
    "Normalization (both 0-1 and normal dist)\n",
    "Feature engineering\n",
    "Feature selection\n",
    "Colinear features (PCA)\n"
   ]
  },
  {
   "cell_type": "markdown",
   "metadata": {},
   "source": [
    "#### Imputation"
   ]
  },
  {
   "cell_type": "code",
   "execution_count": null,
   "metadata": {},
   "outputs": [],
   "source": [
    "from sklearn.neighbors import KNeighborsClassifier\n",
    "from sklearn.preprocessing import LabelEncoder\n",
    "import warnings\n",
    "warnings.filterwarnings(module='sklearn*', action='ignore', category=DeprecationWarning)"
   ]
  },
  {
   "cell_type": "code",
   "execution_count": null,
   "metadata": {},
   "outputs": [],
   "source": [
    "def pre_process_mean_median_impute(df, remove=False, flag=False):\n",
    "    \n",
    "    # Flag if desired\n",
    "    if flag:\n",
    "        df['imputed'] = 0\n",
    "        df = df.astype({'imputed': 'int64'})\n",
    "\n",
    "    # Remove rows that cannot be imputed\n",
    "    if remove:\n",
    "        df = df.loc[-df.select_dtypes(include=['object']).isna().any(axis=1), :]\n",
    "        \n",
    "    # It does not make sense to impute plain text (object) types,\n",
    "    # as plain text does not have a finite number of instances\n",
    "    perc_nan_col = calc_percent_nan_col(df.select_dtypes(exclude=['object']))\n",
    "\n",
    "    # For each column that has missing values, impute them using median or mode\n",
    "    for col_name in perc_nan_col[perc_nan_col > 0].index:\n",
    "        \n",
    "        # Get the data type of the column\n",
    "        dtype = df.dtypes[col_name]\n",
    "        \n",
    "        # Get the column itself\n",
    "        col = df.loc[:, col_name]\n",
    "                \n",
    "        # Get the y column itself\n",
    "        col = df.loc[:, col_name]\n",
    "        col_isna = col.isna()\n",
    "        \n",
    "        # If numeric, use the median\n",
    "        if dtype == 'int64' or dtype == 'float64':\n",
    "            col.fillna(col.median(), inplace=True)\n",
    "            \n",
    "        # Else, use the mode\n",
    "        else:\n",
    "            col.fillna(col.mode().iloc[0], inplace=True)\n",
    "                \n",
    "        # Flag if desired\n",
    "        if flag:\n",
    "            df.loc[col_isna, 'imputed'] = 1\n",
    "    \n",
    "    # Return the df\n",
    "    return df"
   ]
  },
  {
   "cell_type": "code",
   "execution_count": null,
   "metadata": {},
   "outputs": [],
   "source": [
    "def pre_process_knn_impute(df, n_neighbors=5, weights='uniform', remove=False, flag=False):\n",
    "    \n",
    "    # Flag if desired\n",
    "    if flag:\n",
    "        df['imputed'] = 0\n",
    "        df = df.astype({'imputed': 'int64'})\n",
    "\n",
    "    # Remove rows that cannot be imputed\n",
    "    if remove:\n",
    "        df = df.loc[-df.select_dtypes(include=['object']).isna().any(axis=1), :]\n",
    "    \n",
    "    # The classifier\n",
    "    knn_classifier = KNeighborsClassifier(n_neighbors, weights=weights)\n",
    "    \n",
    "    # For each column that has missing values,\n",
    "    # Train a KNN model to predict those missing values based on the data that is not missing\n",
    "    perc_nan_col = calc_percent_nan_col(df)\n",
    "    for col_name_y in perc_nan_col[perc_nan_col > 0].index:\n",
    "                        \n",
    "        # Get the y column itself\n",
    "        print('Imputing ' + col_name_y + '...')\n",
    "        col_y = df.loc[:, col_name_y]\n",
    "        col_y_isna = col_y.isna()\n",
    "        \n",
    "        # Unable to impute object types\n",
    "        if df.dtypes[col_name_y] == 'object':\n",
    "            continue\n",
    "        \n",
    "        # For referencing X columns\n",
    "        col_name_X = df.columns != col_name_y\n",
    "     \n",
    "        # Train the model using data that is not missing\n",
    "        \n",
    "        # Prepare X\n",
    "        knn_X = df.loc[:, col_name_X].select_dtypes(exclude='object') # Don't include objects\n",
    "        knn_X = pre_process_mean_median_impute(knn_X) # Do some preliminary imputation\n",
    "        knn_X = pd.get_dummies(knn_X) # Convert categorical columns to dummy numeric vars\n",
    "        knn_train_X = knn_X.loc[-col_y_isna, :]\n",
    "        knn_impute_X = knn_X.loc[col_y_isna, :]\n",
    "        \n",
    "        # Prepare y\n",
    "        knn_train_y = df.loc[-col_y_isna, col_name_y]\n",
    "        le_y = LabelEncoder().fit(knn_train_y)\n",
    "        knn_train_y = le_y.transform(knn_train_y) # Must be transformed to a category\n",
    "        \n",
    "        # Fit X -> y\n",
    "        knn_classifier.fit(knn_train_X, knn_train_y)\n",
    "        \n",
    "        # Impute missing y <- X\n",
    "        knn_impute_y = knn_classifier.predict(knn_impute_X)\n",
    "        knn_impute_y = le_y.inverse_transform(knn_impute_y) # Must be inverse-transformed back\n",
    "        df.loc[col_y_isna, col_name_y] = knn_impute_y\n",
    "        \n",
    "        # Flag if desired\n",
    "        if flag:\n",
    "            df.loc[col_y_isna, 'imputed'] = 1\n",
    "\n",
    "    # Return the df\n",
    "    return df"
   ]
  },
  {
   "cell_type": "code",
   "execution_count": null,
   "metadata": {},
   "outputs": [],
   "source": [
    "# Percent missing values before imputation\n",
    "print()\n",
    "print('Percent NaNs in each column - before pre-processing')\n",
    "print('---------------------------------------------------')\n",
    "pprint_percent(calc_percent_nan_col(df_train))\n",
    "\n",
    "# Impute using median (for numeric columns) and mode (for all others)\n",
    "df_train = pre_process_knn_impute(df_train, remove=True, flag=True)\n",
    "#df_train = pre_process_mean_median_impute(df_train, remove=True, flag=True)\n",
    "\n",
    "# Percent missing values after imputation\n",
    "print()\n",
    "print('Percent NaNs in each column - after pre-processing')\n",
    "print('--------------------------------------------------')\n",
    "pprint_percent(calc_percent_nan_col(df_train))"
   ]
  },
  {
   "cell_type": "markdown",
   "metadata": {},
   "source": [
    "<a id='analyze-exploratory-data-analysis'></a>"
   ]
  },
  {
   "cell_type": "markdown",
   "metadata": {},
   "source": [
    "### Exploratory Data Analysis"
   ]
  },
  {
   "cell_type": "markdown",
   "metadata": {},
   "source": [
    "#### Colinearity and Pair Plots"
   ]
  },
  {
   "cell_type": "code",
   "execution_count": null,
   "metadata": {
    "scrolled": true
   },
   "outputs": [],
   "source": [
    "# Seaborn visualization library\n",
    "import seaborn as sns\n",
    "warnings.filterwarnings(module='scipy*', action='ignore', category=FutureWarning)\n",
    "\n",
    "# Floor-area related features\n",
    "g = sns.pairplot(df_train.sample(1000), \n",
    "                 vars=['DOF Gross Floor Area',\n",
    "                       'Largest Property Use Type - Gross Floor Area (ft²)',\n",
    "                       'Property GFA - Self-Reported (ft²)'], height=3, hue='imputed')"
   ]
  },
  {
   "cell_type": "code",
   "execution_count": null,
   "metadata": {},
   "outputs": [],
   "source": [
    "# EUI-related features\n",
    "g = sns.pairplot(df_train.sample(1000), \n",
    "                 vars=['Site EUI (kBtu/ft²)',\n",
    "                       'Source EUI (kBtu/ft²)',\n",
    "                       'Weather Normalized Site EUI (kBtu/ft²)',\n",
    "                       'Weather Normalized Source EUI (kBtu/ft²)',\n",
    "                       'Weather Normalized Site Electricity Intensity (kWh/ft²)',\n",
    "                       'Weather Normalized Site Natural Gas Intensity (therms/ft²)'], height=4, hue='imputed')"
   ]
  },
  {
   "cell_type": "markdown",
   "metadata": {},
   "source": [
    "<a id='analyze-modeling'></a>"
   ]
  },
  {
   "cell_type": "markdown",
   "metadata": {},
   "source": [
    "### Modeling"
   ]
  },
  {
   "cell_type": "markdown",
   "metadata": {},
   "source": [
    "<a id='analyze-hyper-parameter-tuning'></a>"
   ]
  },
  {
   "cell_type": "markdown",
   "metadata": {},
   "source": [
    "### Hyper-parameter Tuning"
   ]
  },
  {
   "cell_type": "markdown",
   "metadata": {},
   "source": [
    "<a id='reflect'></a>"
   ]
  },
  {
   "cell_type": "markdown",
   "metadata": {},
   "source": [
    "## Reflect"
   ]
  }
 ],
 "metadata": {
  "kernelspec": {
   "display_name": "Python 3",
   "language": "python",
   "name": "python3"
  },
  "language_info": {
   "codemirror_mode": {
    "name": "ipython",
    "version": 3
   },
   "file_extension": ".py",
   "mimetype": "text/x-python",
   "name": "python",
   "nbconvert_exporter": "python",
   "pygments_lexer": "ipython3",
   "version": "3.7.0"
  }
 },
 "nbformat": 4,
 "nbformat_minor": 2
}
