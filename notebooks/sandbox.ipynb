{
 "cells": [
  {
   "cell_type": "markdown",
   "metadata": {},
   "source": [
    "\n",
    "# Introduction to Machine Learning\n",
    "\n",
    "An interactive Machine Learning example written in Python, broken into the following sections:\n",
    "\n",
    "1. [Scope](#scope)\n",
    "  1. [Problem Definition](#scope-problem-definition)\n",
    "  1. [Data](#scope-data)\n",
    "1. [Prepare](#prepare)\n",
    "  1. [Import](#prepare-import)\n",
    "  1. [Cleaning](#prepare-cleaning)\n",
    "1. [Analyze](#analyze)\n",
    "  1. [Pre-processing](#analyze-pre-processing)\n",
    "  1. [Modeling](#analyze-modeling)\n",
    "  1. [Hyper-parameter Tuning](#analyze-hyper-parameter-tuning)\n",
    "1. [Reflect](#reflect)"
   ]
  },
  {
   "cell_type": "markdown",
   "metadata": {},
   "source": [
    "<a id='scope'></a>"
   ]
  },
  {
   "cell_type": "markdown",
   "metadata": {},
   "source": [
    "## Scope"
   ]
  },
  {
   "cell_type": "markdown",
   "metadata": {},
   "source": [
    "<a id='scope-problem-definition'></a>"
   ]
  },
  {
   "cell_type": "markdown",
   "metadata": {},
   "source": [
    "### Problem Definition\n",
    "\n",
    "We seek to answer the following questions by applying Machine Learning techniques to the NYC Mayor's Office of Sustainability dataset on green buildings and energy efficiency:\n",
    "\n",
    "1. Given a buidling's characteristics, can we predict what its energy usage intensity will be?\n",
    "  - Could be useful for urban planners to proactively estimate energy consumption of various of living spaces.\n",
    "1. Given a buidling's characteristics and energy use, can we predict what its Energy Star rating would be?\n",
    "  - Could be useful for Energy Star to assist in assigning ratings to buildings without a score.\n",
    "  - Could be useful for architects to predict the Energy Star scores of different designs.\n",
    "1. What sources of energy cause the most greenhouse gas emissions for a property?\n",
    "  - Could be useful for policy makers to see what sources of energy produce the most greenhouse gas emissions.\n",
    "1. What factors lead to energy loss between the source of generation and the site of the property?\n",
    "  - Could be useful for engineers to identify which locations, property usages, sources of energy, etc. lead to the most energy loss and adjust the energy grid accordingly."
   ]
  },
  {
   "cell_type": "markdown",
   "metadata": {},
   "source": [
    "<a id='scope-data'></a>"
   ]
  },
  {
   "cell_type": "markdown",
   "metadata": {},
   "source": [
    "### Data\n",
    "\n",
    "#### Citation\n",
    "\n",
    "```\n",
    "NYC Mayor's Office of Sustainability, Green Buildings & Energy Efficiency. (2017). [Data set]. \n",
    "    Retrieved from http://www.nyc.gov/html/gbee/html/plan/ll84_scores.shtml\n",
    "```\n",
    "\n",
    "#### Dimensions\n",
    "\n",
    "| Column                                                     | Functional Data Type    | Technical Data Type |\n",
    "|------------------------------------------------------------|-------------------------|---------------------|\n",
    "| Order                                                      | index                   | integer             |\n",
    "| Property Id                                                | identifier              | text                |\n",
    "| Property Name                                              | identifier              | text                |\n",
    "| Parent Property Id                                         | identifier              | text                |\n",
    "| Parent Property Name                                       | identifier              | text                |\n",
    "| BBL - 10 digits                                            | identifier              | text                |\n",
    "| NYC Borough, Block and Lot (BBL) self-reported             | identifier              | text                |\n",
    "| NYC Building Identification Number (BIN)                   | identifier              | text                |\n",
    "| Address 1 (self-reported)                                  | location                | text                |\n",
    "| Address 2                                                  | location                | text                |\n",
    "| Postal Code                                                | location                | text                |\n",
    "| Street Number                                              | location                | text                |\n",
    "| Street Name                                                | location                | text                |\n",
    "| Borough                                                    | location                | catagorical         |\n",
    "| DOF Gross Floor Area                                       | building characteristic | numeric             |\n",
    "| Primary Property Type - Self Selected                      | building characteristic | categorical         |\n",
    "| List of All Property Use Types at Property                 | building characteristic | [categorical]       |\n",
    "| Largest Property Use Type                                  | building characteristic | categorical         |\n",
    "| Largest Property Use Type - Gross Floor Area (ft²)         | building characteristic | numeric             |\n",
    "| 2nd Largest Property Use Type                              | building characteristic | categorical         |\n",
    "| 2nd Largest Property Use - Gross Floor Area (ft²)          | building characteristic | numeric             |\n",
    "| 3rd Largest Property Use Type                              | building characteristic | categorical         |\n",
    "| 3rd Largest Property Use Type - Gross Floor Area (ft²)     | building characteristic | numeric             |\n",
    "| Year Built                                                 | building characteristic | time                |\n",
    "| Number of Buildings - Self-reported                        | building characteristic | integer             |\n",
    "| Occupancy                                                  | building characteristic | percentage          |\n",
    "| Metered Areas (Energy)                                     | building characteristic | categorical         |\n",
    "| Metered Areas (Water)                                      | building characteristic | categorical         |\n",
    "| ENERGY STAR Score                                          | score                   | numeric             |\n",
    "| Site EUI (kBtu/ft²)                                        | energy usage            | numeric             |\n",
    "| Weather Normalized Site EUI (kBtu/ft²)                     | energy usage            | numeric             |\n",
    "| Weather Normalized Site Electricity Intensity (kWh/ft²)    | energy usage            | numeric             |\n",
    "| Weather Normalized Site Natural Gas Intensity (therms/ft²) | energy usage            | numeric             |\n",
    "| Weather Normalized Source EUI (kBtu/ft²)                   | energy usage            | numeric             |\n",
    "| Fuel Oil #1 Use (kBtu)                                     | energy usage            | numeric             |\n",
    "| Fuel Oil #2 Use (kBtu)                                     | energy usage            | numeric             |\n",
    "| Fuel Oil #4 Use (kBtu)                                     | energy usage            | numeric             |\n",
    "| Fuel Oil #5 &amp; 6 Use (kBtu)                             | energy usage            | numeric             |\n",
    "| Diesel #2 Use (kBtu)                                       | energy usage            | numeric             |\n",
    "| District Steam Use (kBtu)                                  | energy usage            | numeric             |\n",
    "| Natural Gas Use (kBtu)                                     | energy usage            | numeric             |\n",
    "| Weather Normalized Site Natural Gas Use (therms)           | energy usage            | numeric             |\n",
    "| Electricity Use - Grid Purchase (kBtu)                     | energy usage            | numeric             |\n",
    "| Weather Normalized Site Electricity (kWh)                  | energy usage            | numeric             |\n",
    "| Total GHG Emissions (Metric Tons CO2e)                     | environmental footprint | numeric             |\n",
    "| Direct GHG Emissions (Metric Tons CO2e)                    | environmental footprint | numeric             |\n",
    "| Indirect GHG Emissions (Metric Tons CO2e)                  | environmental footprint | numeric             |\n",
    "| Property GFA - Self-Reported (ft²)                         | building characteristic | numeric             |\n",
    "| Water Use (All Water Sources) (kgal)                       | resource usage          | numeric             |\n",
    "| Water Intensity (All Water Sources) (gal/ft²)              | resource usage          | numeric             |\n",
    "| Source EUI (kBtu/ft²)                                      | energy usage            | numeric             |\n",
    "| Release Date                                               | metadata                | time                |\n",
    "| Water Required?                                            | building characteristic | categorical         |\n",
    "| DOF Benchmarking Submission Status                         | metadata                | categorical         |"
   ]
  },
  {
   "cell_type": "markdown",
   "metadata": {},
   "source": [
    "<a id='prepare'></a>"
   ]
  },
  {
   "cell_type": "markdown",
   "metadata": {},
   "source": [
    "## Prepare"
   ]
  },
  {
   "cell_type": "markdown",
   "metadata": {},
   "source": [
    "<a id='prepare-import'></a>"
   ]
  },
  {
   "cell_type": "markdown",
   "metadata": {},
   "source": [
    "### Import"
   ]
  },
  {
   "cell_type": "code",
   "execution_count": 1,
   "metadata": {},
   "outputs": [],
   "source": [
    "import os\n",
    "import pprint\n",
    "import numpy as np\n",
    "import pandas as pd"
   ]
  },
  {
   "cell_type": "code",
   "execution_count": null,
   "metadata": {},
   "outputs": [],
   "source": [
    "# Import the data\n",
    "data_path = os.path.join(os.path.abspath('..'), 'data', 'nyc_benchmarking_disclosure_data_reported_in_2017.xlsx')\n",
    "df = pd.read_excel(data_path, sheet_name='Information and Metrics')"
   ]
  },
  {
   "cell_type": "code",
   "execution_count": null,
   "metadata": {
    "scrolled": false
   },
   "outputs": [],
   "source": [
    "# View the structure of the data\n",
    "df.head()"
   ]
  },
  {
   "cell_type": "markdown",
   "metadata": {},
   "source": [
    "<a id='prepare-cleaning'></a>"
   ]
  },
  {
   "cell_type": "markdown",
   "metadata": {},
   "source": [
    "### Cleaning\n",
    "\n",
    "#### Missing Values"
   ]
  },
  {
   "cell_type": "code",
   "execution_count": null,
   "metadata": {
    "scrolled": true
   },
   "outputs": [],
   "source": [
    "# Note that NaNs are listed as \"Not Available\" in this data set\n",
    "# Change these to NaN\n",
    "df = df.replace('Not Available', np.NaN)\n",
    "\n",
    "# Display the percentage of missing values for each column\n",
    "pd.options.display.float_format = '{:.2f}'.format\n",
    "percent_nan = df.isna().sum()/len(df) * 100\n",
    "print(percent_nan)"
   ]
  },
  {
   "cell_type": "code",
   "execution_count": null,
   "metadata": {},
   "outputs": [],
   "source": [
    "# Remove all columns that have more than 33% missing values\n",
    "df = df.loc[:, percent_nan < 33]"
   ]
  },
  {
   "cell_type": "markdown",
   "metadata": {},
   "source": [
    "#### Column Names"
   ]
  },
  {
   "cell_type": "code",
   "execution_count": null,
   "metadata": {},
   "outputs": [],
   "source": [
    "# Look at the existing column names\n",
    "pp = pprint.PrettyPrinter(indent=4)\n",
    "pp.pprint(list(df.columns))"
   ]
  },
  {
   "cell_type": "code",
   "execution_count": null,
   "metadata": {},
   "outputs": [],
   "source": [
    "# Rename columns so that they are easier to reference\n",
    "df = df.rename(index=str, columns={\"Order\": \"order\", \n",
    "                              \"Property Id\": \"id\", \n",
    "                              \"Property Name\": \"name\", \n",
    "                              \"Parent Property Id\": \"prnt_id\", \n",
    "                              \"Parent Property Name\": \"prnt_name\", \n",
    "                              \"BBL - 10 digits\": \"brgh_blck_lt\", \n",
    "                              \"NYC Borough, Block and Lot (BBL) self-reported\": \"brgh_blck_lt_self\", \n",
    "                              \"NYC Building Identification Number (BIN)\": \"bldng_id_no\", \n",
    "                              \"Address 1 (self-reported)\": \"addr_1_self\", \n",
    "                              \"Postal Code\": \"zip_code\", \n",
    "                              \"Street Number\": \"st_no\", \n",
    "                              \"Street Name\": \"st_name\", \n",
    "                              \"Borough\": \"brgh\", \n",
    "                              \"DOF Gross Floor Area\": \"flr_area\", \n",
    "                              \"Primary Property Type - Self Selected\": \"prim_type\", \n",
    "                              \"List of All Property Use Types at Property\": \"all_type\", \n",
    "                              \"Largest Property Use Type\": \"lgst_type\", \n",
    "                              \"Largest Property Use Type - Gross Floor Area (ft²)\": \"lgst_type_area\", \n",
    "                              \"Year Built\": \"year_built\", \n",
    "                              \"Number of Buildings - Self-reported\": \"no_bldngs\", \n",
    "                              \"Occupancy\": \"occupancy\", \n",
    "                              \"Metered Areas (Energy)\": \"mtrd_area_energy\", \n",
    "                              \"ENERGY STAR Score\": \"energy_star\", \n",
    "                              \"Site EUI (kBtu/ft²)\": \"eui\", \n",
    "                              \"Weather Normalized Site EUI (kBtu/ft²)\": \"wthr_norm_site_eui\", \n",
    "                              \"Weather Normalized Site Electricity Intensity (kWh/ft²)\": \"wthr_norm_site_elec_int\", \n",
    "                              \"Weather Normalized Site Natural Gas Intensity (therms/ft²)\": \"wthr_norm_site_gas_int\", \n",
    "                              \"Weather Normalized Source EUI (kBtu/ft²)\": \"wthr_norm_src_eui\", \n",
    "                              \"Natural Gas Use (kBtu)\": \"gas\", \n",
    "                              \"Weather Normalized Site Natural Gas Use (therms)\": \"wthr_norm_gas\", \n",
    "                              \"Electricity Use - Grid Purchase (kBtu)\": \"elec\", \n",
    "                              \"Weather Normalized Site Electricity (kWh)\": \"wthr_norm_elec\", \n",
    "                              \"Total GHG Emissions (Metric Tons CO2e)\": \"co2_tot\", \n",
    "                              \"Direct GHG Emissions (Metric Tons CO2e)\": \"co2_dir\", \n",
    "                              \"Indirect GHG Emissions (Metric Tons CO2e)\": \"co2_ind\", \n",
    "                              \"Property GFA - Self-Reported (ft²)\": \"gfa_self\", \n",
    "                              \"Source EUI (kBtu/ft²)\": \"src_eui\", \n",
    "                              \"Release Date\": \"rel_date\", \n",
    "                              \"Water Required?\": \"water_req\", \n",
    "                              \"DOF Benchmarking Submission Status\": \"dof_bnchmrkng_sub_status\"})\n",
    "pp.pprint(list(df.columns))"
   ]
  },
  {
   "cell_type": "markdown",
   "metadata": {},
   "source": [
    "#### Column Types"
   ]
  },
  {
   "cell_type": "code",
   "execution_count": null,
   "metadata": {},
   "outputs": [],
   "source": [
    "# See what the column types are now\n",
    "# Will want to change these based on the dimensions table above\n",
    "df.info()"
   ]
  },
  {
   "cell_type": "code",
   "execution_count": null,
   "metadata": {},
   "outputs": [],
   "source": [
    "# Set the column types appropriately\n",
    "df = df.astype(dtype={\"order\": \"int64\", \n",
    "                              \"id\": \"object\", \n",
    "                              \"name\": \"object\", \n",
    "                              \"prnt_id\": \"object\", \n",
    "                              \"prnt_name\": \"object\", \n",
    "                              \"brgh_blck_lt\": \"object\", \n",
    "                              \"brgh_blck_lt_self\": \"object\", \n",
    "                              \"bldng_id_no\": \"object\", \n",
    "                              \"addr_1_self\": \"object\", \n",
    "                              \"zip_code\": \"object\", \n",
    "                              \"st_no\": \"object\", \n",
    "                              \"st_name\": \"object\", \n",
    "                              \"brgh\": \"category\", \n",
    "                              \"flr_area\": \"float64\", \n",
    "                              \"prim_type\": \"category\", \n",
    "                              \"all_type\": \"object\", \n",
    "                              \"lgst_type\": \"category\", \n",
    "                              \"lgst_type_area\": \"float64\", \n",
    "                              \"year_built\": \"datetime64[ns]\", \n",
    "                              \"no_bldngs\": \"int64\", \n",
    "                              \"occupancy\": \"float64\", \n",
    "                              \"mtrd_area_energy\": \"category\", \n",
    "                              \"energy_star\": \"float64\", \n",
    "                              \"eui\": \"float64\", \n",
    "                              \"wthr_norm_site_eui\": \"float64\", \n",
    "                              \"wthr_norm_site_elec_int\": \"float64\", \n",
    "                              \"wthr_norm_site_gas_int\": \"float64\", \n",
    "                              \"wthr_norm_src_eui\": \"float64\", \n",
    "                              \"gas\": \"float64\", \n",
    "                              \"wthr_norm_gas\": \"float64\", \n",
    "                              \"elec\": \"float64\", \n",
    "                              \"wthr_norm_elec\": \"float64\", \n",
    "                              \"co2_tot\": \"float64\", \n",
    "                              \"co2_dir\": \"float64\", \n",
    "                              \"co2_ind\": \"float64\", \n",
    "                              \"gfa_self\": \"float64\", \n",
    "                              \"src_eui\": \"float64\", \n",
    "                              \"rel_date\": \"datetime64[ns]\", \n",
    "                              \"water_req\": \"category\", \n",
    "                              \"dof_bnchmrkng_sub_status\": \"category\"})\n",
    "df.info()"
   ]
  },
  {
   "cell_type": "markdown",
   "metadata": {},
   "source": [
    "<a id='analyze'></a>"
   ]
  },
  {
   "cell_type": "markdown",
   "metadata": {},
   "source": [
    "## Analyze"
   ]
  },
  {
   "cell_type": "markdown",
   "metadata": {},
   "source": [
    "<a id='analyze-pre-processing'></a>"
   ]
  },
  {
   "cell_type": "markdown",
   "metadata": {},
   "source": [
    "### Pre-processing"
   ]
  },
  {
   "cell_type": "markdown",
   "metadata": {},
   "source": [
    "<a id='analyze-modeling'></a>"
   ]
  },
  {
   "cell_type": "markdown",
   "metadata": {},
   "source": [
    "### Modeling"
   ]
  },
  {
   "cell_type": "markdown",
   "metadata": {},
   "source": [
    "<a id='analyze-hyper-parameter-tuning'></a>"
   ]
  },
  {
   "cell_type": "markdown",
   "metadata": {},
   "source": [
    "### Hyper-parameter Tuning"
   ]
  },
  {
   "cell_type": "markdown",
   "metadata": {},
   "source": [
    "<a id='reflect'></a>"
   ]
  },
  {
   "cell_type": "markdown",
   "metadata": {},
   "source": [
    "## Reflect"
   ]
  }
 ],
 "metadata": {
  "kernelspec": {
   "display_name": "Python 3",
   "language": "python",
   "name": "python3"
  },
  "language_info": {
   "codemirror_mode": {
    "name": "ipython",
    "version": 3
   },
   "file_extension": ".py",
   "mimetype": "text/x-python",
   "name": "python",
   "nbconvert_exporter": "python",
   "pygments_lexer": "ipython3",
   "version": "3.7.0"
  }
 },
 "nbformat": 4,
 "nbformat_minor": 2
}
